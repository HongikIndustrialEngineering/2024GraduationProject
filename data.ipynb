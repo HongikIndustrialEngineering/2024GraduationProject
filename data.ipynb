import pandas as pd
import numpy as np

df = pd.read_excel("전처리_영어.xlsx")

# 영어 아닌 문자 제거
df["comments"] = df["comments"].str.replace(r"[^a-zA-Z]", " ", regex=True)

df.to_excel("전처리_2.xlsx")
