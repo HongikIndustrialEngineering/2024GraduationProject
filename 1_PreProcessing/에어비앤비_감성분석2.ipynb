{
 "cells": [
  {
   "cell_type": "code",
   "execution_count": 37,
   "id": "faf529cf",
   "metadata": {},
   "outputs": [],
   "source": [
    "import pandas as pd"
   ]
  },
  {
   "cell_type": "code",
   "execution_count": 38,
   "id": "cc2b026b",
   "metadata": {
    "scrolled": false
   },
   "outputs": [
    {
     "data": {
      "text/html": [
       "<div>\n",
       "<style scoped>\n",
       "    .dataframe tbody tr th:only-of-type {\n",
       "        vertical-align: middle;\n",
       "    }\n",
       "\n",
       "    .dataframe tbody tr th {\n",
       "        vertical-align: top;\n",
       "    }\n",
       "\n",
       "    .dataframe thead th {\n",
       "        text-align: right;\n",
       "    }\n",
       "</style>\n",
       "<table border=\"1\" class=\"dataframe\">\n",
       "  <thead>\n",
       "    <tr style=\"text-align: right;\">\n",
       "      <th></th>\n",
       "      <th>Index</th>\n",
       "      <th>listing_id</th>\n",
       "      <th>id</th>\n",
       "      <th>date</th>\n",
       "      <th>reviewer_id</th>\n",
       "      <th>reviewer_name</th>\n",
       "      <th>comments</th>\n",
       "      <th>comments_KO</th>\n",
       "    </tr>\n",
       "  </thead>\n",
       "  <tbody>\n",
       "    <tr>\n",
       "      <th>0</th>\n",
       "      <td>0</td>\n",
       "      <td>77765</td>\n",
       "      <td>8.400000e+17</td>\n",
       "      <td>2023-03-04 00:00:00</td>\n",
       "      <td>154000000</td>\n",
       "      <td>Brian</td>\n",
       "      <td>We enjoyed our stay at The Box House No compla...</td>\n",
       "      <td>The Box House에서 즐거운 시간을 보냈습니다. 불만 사항이 없습니다. 이 ...</td>\n",
       "    </tr>\n",
       "    <tr>\n",
       "      <th>1</th>\n",
       "      <td>1</td>\n",
       "      <td>77765</td>\n",
       "      <td>8.460000e+17</td>\n",
       "      <td>2023-03-12 00:00:00</td>\n",
       "      <td>95341816</td>\n",
       "      <td>Tanya</td>\n",
       "      <td>Wonderful stay</td>\n",
       "      <td>멋진 숙박</td>\n",
       "    </tr>\n",
       "    <tr>\n",
       "      <th>2</th>\n",
       "      <td>2</td>\n",
       "      <td>77765</td>\n",
       "      <td>8.510000e+17</td>\n",
       "      <td>2023-03-19 00:00:00</td>\n",
       "      <td>44514440</td>\n",
       "      <td>Chelsey</td>\n",
       "      <td>We loved The Box House We travel for Maryland ...</td>\n",
       "      <td>우리는 The Box House를 좋아했습니다. 우리는 브루클린에서 문신을 하기 위...</td>\n",
       "    </tr>\n",
       "    <tr>\n",
       "      <th>3</th>\n",
       "      <td>3</td>\n",
       "      <td>77765</td>\n",
       "      <td>8.710000e+17</td>\n",
       "      <td>2023-04-16 00:00:00</td>\n",
       "      <td>348000000</td>\n",
       "      <td>Jakub</td>\n",
       "      <td>We loved our stay at this hotel The staff was ...</td>\n",
       "      <td>이 호텔에서의 숙박이 정말 좋았습니다. 직원이 매우 도움이 되었고 사랑스럽게 체크인...</td>\n",
       "    </tr>\n",
       "    <tr>\n",
       "      <th>4</th>\n",
       "      <td>4</td>\n",
       "      <td>77765</td>\n",
       "      <td>9.020000e+17</td>\n",
       "      <td>2023-05-29 00:00:00</td>\n",
       "      <td>54427269</td>\n",
       "      <td>David</td>\n",
       "      <td>Clean and spacious room</td>\n",
       "      <td>깨끗하고 넓은 객실</td>\n",
       "    </tr>\n",
       "    <tr>\n",
       "      <th>...</th>\n",
       "      <td>...</td>\n",
       "      <td>...</td>\n",
       "      <td>...</td>\n",
       "      <td>...</td>\n",
       "      <td>...</td>\n",
       "      <td>...</td>\n",
       "      <td>...</td>\n",
       "      <td>...</td>\n",
       "    </tr>\n",
       "    <tr>\n",
       "      <th>347338</th>\n",
       "      <td>223667</td>\n",
       "      <td>1100000000000000000</td>\n",
       "      <td>1.100000e+18</td>\n",
       "      <td>2024-02-24 00:00:00</td>\n",
       "      <td>534000000</td>\n",
       "      <td>Hikari</td>\n",
       "      <td>Clean and convenient location It was a good deal</td>\n",
       "      <td>깨끗하고 위치가 편리해서 좋았어요</td>\n",
       "    </tr>\n",
       "    <tr>\n",
       "      <th>347339</th>\n",
       "      <td>223668</td>\n",
       "      <td>1100000000000000000</td>\n",
       "      <td>1.100000e+18</td>\n",
       "      <td>2024-02-24 00:00:00</td>\n",
       "      <td>507000000</td>\n",
       "      <td>Paulina</td>\n",
       "      <td>Absolutely outstanding Right in the middle of ...</td>\n",
       "      <td>정말 훌륭합니다. 도시 한가운데에 있고 근처에서 할 수 있는 일이 너무 많습니다. ...</td>\n",
       "    </tr>\n",
       "    <tr>\n",
       "      <th>347340</th>\n",
       "      <td>223669</td>\n",
       "      <td>1100000000000000000</td>\n",
       "      <td>1.100000e+18</td>\n",
       "      <td>2024-02-25 00:00:00</td>\n",
       "      <td>306000000</td>\n",
       "      <td>Christopher</td>\n",
       "      <td>Great location nice place</td>\n",
       "      <td>좋은 위치 좋은 곳</td>\n",
       "    </tr>\n",
       "    <tr>\n",
       "      <th>347341</th>\n",
       "      <td>223670</td>\n",
       "      <td>1100000000000000000</td>\n",
       "      <td>1.100000e+18</td>\n",
       "      <td>2024-02-25 00:00:00</td>\n",
       "      <td>138000000</td>\n",
       "      <td>David</td>\n",
       "      <td>Great stay Would definitely stay here again</td>\n",
       "      <td>훌륭한 숙박입니다. 꼭 다시 이곳에 머물고 싶습니다.</td>\n",
       "    </tr>\n",
       "    <tr>\n",
       "      <th>347342</th>\n",
       "      <td>223671</td>\n",
       "      <td>1090000000000000000</td>\n",
       "      <td>1.100000e+18</td>\n",
       "      <td>2024-02-19 00:00:00</td>\n",
       "      <td>331000000</td>\n",
       "      <td>Fabio</td>\n",
       "      <td>As soon as I walked in I fell in love with how...</td>\n",
       "      <td>들어가자마자 숙소가 얼마나 깨끗하고 밝은지 반했습니다. Wi-Fi가 빨라서 몇 시간...</td>\n",
       "    </tr>\n",
       "  </tbody>\n",
       "</table>\n",
       "<p>347343 rows × 8 columns</p>\n",
       "</div>"
      ],
      "text/plain": [
       "         Index           listing_id            id                 date  \\\n",
       "0            0                77765  8.400000e+17  2023-03-04 00:00:00   \n",
       "1            1                77765  8.460000e+17  2023-03-12 00:00:00   \n",
       "2            2                77765  8.510000e+17  2023-03-19 00:00:00   \n",
       "3            3                77765  8.710000e+17  2023-04-16 00:00:00   \n",
       "4            4                77765  9.020000e+17  2023-05-29 00:00:00   \n",
       "...        ...                  ...           ...                  ...   \n",
       "347338  223667  1100000000000000000  1.100000e+18  2024-02-24 00:00:00   \n",
       "347339  223668  1100000000000000000  1.100000e+18  2024-02-24 00:00:00   \n",
       "347340  223669  1100000000000000000  1.100000e+18  2024-02-25 00:00:00   \n",
       "347341  223670  1100000000000000000  1.100000e+18  2024-02-25 00:00:00   \n",
       "347342  223671  1090000000000000000  1.100000e+18  2024-02-19 00:00:00   \n",
       "\n",
       "        reviewer_id reviewer_name  \\\n",
       "0         154000000         Brian   \n",
       "1          95341816         Tanya   \n",
       "2          44514440       Chelsey   \n",
       "3         348000000         Jakub   \n",
       "4          54427269         David   \n",
       "...             ...           ...   \n",
       "347338    534000000        Hikari   \n",
       "347339    507000000       Paulina   \n",
       "347340    306000000   Christopher   \n",
       "347341    138000000         David   \n",
       "347342    331000000         Fabio   \n",
       "\n",
       "                                                 comments  \\\n",
       "0       We enjoyed our stay at The Box House No compla...   \n",
       "1                                          Wonderful stay   \n",
       "2       We loved The Box House We travel for Maryland ...   \n",
       "3       We loved our stay at this hotel The staff was ...   \n",
       "4                                 Clean and spacious room   \n",
       "...                                                   ...   \n",
       "347338   Clean and convenient location It was a good deal   \n",
       "347339  Absolutely outstanding Right in the middle of ...   \n",
       "347340                          Great location nice place   \n",
       "347341        Great stay Would definitely stay here again   \n",
       "347342  As soon as I walked in I fell in love with how...   \n",
       "\n",
       "                                              comments_KO  \n",
       "0       The Box House에서 즐거운 시간을 보냈습니다. 불만 사항이 없습니다. 이 ...  \n",
       "1                                                   멋진 숙박  \n",
       "2       우리는 The Box House를 좋아했습니다. 우리는 브루클린에서 문신을 하기 위...  \n",
       "3       이 호텔에서의 숙박이 정말 좋았습니다. 직원이 매우 도움이 되었고 사랑스럽게 체크인...  \n",
       "4                                              깨끗하고 넓은 객실  \n",
       "...                                                   ...  \n",
       "347338                                 깨끗하고 위치가 편리해서 좋았어요  \n",
       "347339  정말 훌륭합니다. 도시 한가운데에 있고 근처에서 할 수 있는 일이 너무 많습니다. ...  \n",
       "347340                                         좋은 위치 좋은 곳  \n",
       "347341                      훌륭한 숙박입니다. 꼭 다시 이곳에 머물고 싶습니다.  \n",
       "347342  들어가자마자 숙소가 얼마나 깨끗하고 밝은지 반했습니다. Wi-Fi가 빨라서 몇 시간...  \n",
       "\n",
       "[347343 rows x 8 columns]"
      ]
     },
     "execution_count": 38,
     "metadata": {},
     "output_type": "execute_result"
    }
   ],
   "source": [
    "#데이터 불러오기\n",
    "\n",
    "path = r\"C:\\Users\\82106\\Desktop/reviews_KO.xlsx\"\n",
    "df = pd.read_excel(path)\n",
    "df"
   ]
  },
  {
   "cell_type": "code",
   "execution_count": 39,
   "id": "7f92fcdf",
   "metadata": {},
   "outputs": [
    {
     "data": {
      "text/html": [
       "<div>\n",
       "<style scoped>\n",
       "    .dataframe tbody tr th:only-of-type {\n",
       "        vertical-align: middle;\n",
       "    }\n",
       "\n",
       "    .dataframe tbody tr th {\n",
       "        vertical-align: top;\n",
       "    }\n",
       "\n",
       "    .dataframe thead th {\n",
       "        text-align: right;\n",
       "    }\n",
       "</style>\n",
       "<table border=\"1\" class=\"dataframe\">\n",
       "  <thead>\n",
       "    <tr style=\"text-align: right;\">\n",
       "      <th></th>\n",
       "      <th>reviewer_id</th>\n",
       "      <th>reviewer_name</th>\n",
       "      <th>comments_KO</th>\n",
       "    </tr>\n",
       "  </thead>\n",
       "  <tbody>\n",
       "    <tr>\n",
       "      <th>0</th>\n",
       "      <td>154000000</td>\n",
       "      <td>Brian</td>\n",
       "      <td>The Box House에서 즐거운 시간을 보냈습니다. 불만 사항이 없습니다. 이 ...</td>\n",
       "    </tr>\n",
       "    <tr>\n",
       "      <th>1</th>\n",
       "      <td>95341816</td>\n",
       "      <td>Tanya</td>\n",
       "      <td>멋진 숙박</td>\n",
       "    </tr>\n",
       "    <tr>\n",
       "      <th>2</th>\n",
       "      <td>44514440</td>\n",
       "      <td>Chelsey</td>\n",
       "      <td>우리는 The Box House를 좋아했습니다. 우리는 브루클린에서 문신을 하기 위...</td>\n",
       "    </tr>\n",
       "    <tr>\n",
       "      <th>3</th>\n",
       "      <td>348000000</td>\n",
       "      <td>Jakub</td>\n",
       "      <td>이 호텔에서의 숙박이 정말 좋았습니다. 직원이 매우 도움이 되었고 사랑스럽게 체크인...</td>\n",
       "    </tr>\n",
       "    <tr>\n",
       "      <th>4</th>\n",
       "      <td>54427269</td>\n",
       "      <td>David</td>\n",
       "      <td>깨끗하고 넓은 객실</td>\n",
       "    </tr>\n",
       "    <tr>\n",
       "      <th>...</th>\n",
       "      <td>...</td>\n",
       "      <td>...</td>\n",
       "      <td>...</td>\n",
       "    </tr>\n",
       "    <tr>\n",
       "      <th>347338</th>\n",
       "      <td>534000000</td>\n",
       "      <td>Hikari</td>\n",
       "      <td>깨끗하고 위치가 편리해서 좋았어요</td>\n",
       "    </tr>\n",
       "    <tr>\n",
       "      <th>347339</th>\n",
       "      <td>507000000</td>\n",
       "      <td>Paulina</td>\n",
       "      <td>정말 훌륭합니다. 도시 한가운데에 있고 근처에서 할 수 있는 일이 너무 많습니다. ...</td>\n",
       "    </tr>\n",
       "    <tr>\n",
       "      <th>347340</th>\n",
       "      <td>306000000</td>\n",
       "      <td>Christopher</td>\n",
       "      <td>좋은 위치 좋은 곳</td>\n",
       "    </tr>\n",
       "    <tr>\n",
       "      <th>347341</th>\n",
       "      <td>138000000</td>\n",
       "      <td>David</td>\n",
       "      <td>훌륭한 숙박입니다. 꼭 다시 이곳에 머물고 싶습니다.</td>\n",
       "    </tr>\n",
       "    <tr>\n",
       "      <th>347342</th>\n",
       "      <td>331000000</td>\n",
       "      <td>Fabio</td>\n",
       "      <td>들어가자마자 숙소가 얼마나 깨끗하고 밝은지 반했습니다. Wi-Fi가 빨라서 몇 시간...</td>\n",
       "    </tr>\n",
       "  </tbody>\n",
       "</table>\n",
       "<p>347343 rows × 3 columns</p>\n",
       "</div>"
      ],
      "text/plain": [
       "        reviewer_id reviewer_name  \\\n",
       "0         154000000         Brian   \n",
       "1          95341816         Tanya   \n",
       "2          44514440       Chelsey   \n",
       "3         348000000         Jakub   \n",
       "4          54427269         David   \n",
       "...             ...           ...   \n",
       "347338    534000000        Hikari   \n",
       "347339    507000000       Paulina   \n",
       "347340    306000000   Christopher   \n",
       "347341    138000000         David   \n",
       "347342    331000000         Fabio   \n",
       "\n",
       "                                              comments_KO  \n",
       "0       The Box House에서 즐거운 시간을 보냈습니다. 불만 사항이 없습니다. 이 ...  \n",
       "1                                                   멋진 숙박  \n",
       "2       우리는 The Box House를 좋아했습니다. 우리는 브루클린에서 문신을 하기 위...  \n",
       "3       이 호텔에서의 숙박이 정말 좋았습니다. 직원이 매우 도움이 되었고 사랑스럽게 체크인...  \n",
       "4                                              깨끗하고 넓은 객실  \n",
       "...                                                   ...  \n",
       "347338                                 깨끗하고 위치가 편리해서 좋았어요  \n",
       "347339  정말 훌륭합니다. 도시 한가운데에 있고 근처에서 할 수 있는 일이 너무 많습니다. ...  \n",
       "347340                                         좋은 위치 좋은 곳  \n",
       "347341                      훌륭한 숙박입니다. 꼭 다시 이곳에 머물고 싶습니다.  \n",
       "347342  들어가자마자 숙소가 얼마나 깨끗하고 밝은지 반했습니다. Wi-Fi가 빨라서 몇 시간...  \n",
       "\n",
       "[347343 rows x 3 columns]"
      ]
     },
     "execution_count": 39,
     "metadata": {},
     "output_type": "execute_result"
    }
   ],
   "source": [
    "#필요한 열만 추출\n",
    "\n",
    "df = df.loc[:, [\"reviewer_id\",\"reviewer_name\",\"comments_KO\"]]\n",
    "df"
   ]
  },
  {
   "cell_type": "code",
   "execution_count": 40,
   "id": "d3d71c87",
   "metadata": {},
   "outputs": [
    {
     "name": "stdout",
     "output_type": "stream",
     "text": [
      "<class 'pandas.core.frame.DataFrame'>\n",
      "RangeIndex: 347343 entries, 0 to 347342\n",
      "Data columns (total 3 columns):\n",
      " #   Column         Non-Null Count   Dtype \n",
      "---  ------         --------------   ----- \n",
      " 0   reviewer_id    347343 non-null  int64 \n",
      " 1   reviewer_name  347343 non-null  object\n",
      " 2   comments_KO    343725 non-null  object\n",
      "dtypes: int64(1), object(2)\n",
      "memory usage: 8.0+ MB\n"
     ]
    }
   ],
   "source": [
    "df.info()"
   ]
  },
  {
   "cell_type": "code",
   "execution_count": 42,
   "id": "5c8a759c",
   "metadata": {},
   "outputs": [
    {
     "data": {
      "text/plain": [
       "reviewer_id      186000000\n",
       "reviewer_name        Rivka\n",
       "comments_KO        #VALUE!\n",
       "Name: 89, dtype: object"
      ]
     },
     "execution_count": 42,
     "metadata": {},
     "output_type": "execute_result"
    }
   ],
   "source": [
    "df.iloc[89]"
   ]
  },
  {
   "cell_type": "code",
   "execution_count": 43,
   "id": "1fc2db88",
   "metadata": {},
   "outputs": [],
   "source": [
    "# nan 값을 가진 행 삭제\n",
    "df = df.dropna()"
   ]
  },
  {
   "cell_type": "code",
   "execution_count": 44,
   "id": "53322e8e",
   "metadata": {},
   "outputs": [
    {
     "name": "stdout",
     "output_type": "stream",
     "text": [
      "<class 'pandas.core.frame.DataFrame'>\n",
      "Int64Index: 343725 entries, 0 to 347342\n",
      "Data columns (total 3 columns):\n",
      " #   Column         Non-Null Count   Dtype \n",
      "---  ------         --------------   ----- \n",
      " 0   reviewer_id    343725 non-null  int64 \n",
      " 1   reviewer_name  343725 non-null  object\n",
      " 2   comments_KO    343725 non-null  object\n",
      "dtypes: int64(1), object(2)\n",
      "memory usage: 10.5+ MB\n"
     ]
    }
   ],
   "source": [
    "df.info()"
   ]
  },
  {
   "cell_type": "code",
   "execution_count": 45,
   "id": "db3bf03d",
   "metadata": {},
   "outputs": [
    {
     "data": {
      "text/plain": [
       "reviewer_id                                              461000000\n",
       "reviewer_name                                                Lydie\n",
       "comments_KO      Le logement tait matche nos attentes JENNIFER ...\n",
       "Name: 22, dtype: object"
      ]
     },
     "execution_count": 45,
     "metadata": {},
     "output_type": "execute_result"
    }
   ],
   "source": [
    "df.iloc[22]"
   ]
  },
  {
   "cell_type": "code",
   "execution_count": 60,
   "id": "bcce0d13",
   "metadata": {},
   "outputs": [],
   "source": [
    "# 알파벳 제거 함수\n",
    "import re\n",
    "def cleanText(readData):\n",
    "    text = re.sub('[abcdefghijklmnopqrstuvwxyzABCDEFGHIJKLMNOPQRSTUVWXYZ]', '', readData)\n",
    "    return text\n",
    "\n",
    "df['comments_KO'] = df['comments_KO'].apply(cleanText)"
   ]
  },
  {
   "cell_type": "code",
   "execution_count": 65,
   "id": "869b9a0d",
   "metadata": {},
   "outputs": [],
   "source": [
    "# nan 값을 가진 행 삭제\n",
    "df = df.dropna()"
   ]
  },
  {
   "cell_type": "code",
   "execution_count": 66,
   "id": "de6dbfd2",
   "metadata": {},
   "outputs": [
    {
     "name": "stdout",
     "output_type": "stream",
     "text": [
      "<class 'pandas.core.frame.DataFrame'>\n",
      "Int64Index: 343725 entries, 0 to 347342\n",
      "Data columns (total 3 columns):\n",
      " #   Column         Non-Null Count   Dtype \n",
      "---  ------         --------------   ----- \n",
      " 0   reviewer_id    343725 non-null  int64 \n",
      " 1   reviewer_name  343725 non-null  object\n",
      " 2   comments_KO    343725 non-null  object\n",
      "dtypes: int64(1), object(2)\n",
      "memory usage: 10.5+ MB\n"
     ]
    }
   ],
   "source": [
    "df.info()"
   ]
  },
  {
   "cell_type": "code",
   "execution_count": 67,
   "id": "6eeb438c",
   "metadata": {},
   "outputs": [
    {
     "data": {
      "text/plain": [
       "reviewer_id                               461000000\n",
       "reviewer_name                                 Lydie\n",
       "comments_KO                                        \n",
       "Name: 22, dtype: object"
      ]
     },
     "execution_count": 67,
     "metadata": {},
     "output_type": "execute_result"
    }
   ],
   "source": [
    "df.iloc[22]"
   ]
  },
  {
   "cell_type": "code",
   "execution_count": 72,
   "id": "f6bbc35f",
   "metadata": {},
   "outputs": [
    {
     "data": {
      "text/plain": [
       "'                                  '"
      ]
     },
     "execution_count": 72,
     "metadata": {},
     "output_type": "execute_result"
    }
   ],
   "source": [
    "df.iloc[22,2]"
   ]
  },
  {
   "cell_type": "code",
   "execution_count": null,
   "id": "1f4a2643",
   "metadata": {},
   "outputs": [],
   "source": []
  }
 ],
 "metadata": {
  "kernelspec": {
   "display_name": "Python 3 (ipykernel)",
   "language": "python",
   "name": "python3"
  },
  "language_info": {
   "codemirror_mode": {
    "name": "ipython",
    "version": 3
   },
   "file_extension": ".py",
   "mimetype": "text/x-python",
   "name": "python",
   "nbconvert_exporter": "python",
   "pygments_lexer": "ipython3",
   "version": "3.9.12"
  }
 },
 "nbformat": 4,
 "nbformat_minor": 5
}
