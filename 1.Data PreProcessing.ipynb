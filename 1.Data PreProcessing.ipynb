#데이터 불러오기

path = r"C:\Users\82106\Desktop/리뷰.csv"
df = pd.read_csv(path)
df
