import pandas as pd
import numpy as np

df = pd.read_excel("23.2-24.2.xlsx")

# 줄 바꿈 제거
df["comments"] = df["comments"].str.replace("<br/>", " ")

# 영어 아닌 문자 제거
df["comments"] = df["comments"].str.replace(r"[^a-zA-Z]", " ", regex=True)

df.to_excel("non_eng_remove.xlsx")
